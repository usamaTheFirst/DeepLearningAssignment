{
  "nbformat": 4,
  "nbformat_minor": 0,
  "metadata": {
    "kernelspec": {
      "display_name": "Python 3",
      "language": "python",
      "name": "python3"
    },
    "language_info": {
      "codemirror_mode": {
        "name": "ipython",
        "version": 3
      },
      "file_extension": ".py",
      "mimetype": "text/x-python",
      "name": "python",
      "nbconvert_exporter": "python",
      "pygments_lexer": "ipython3",
      "version": "3.7.3"
    },
    "colab": {
      "name": "Concrete Strength Assignment.ipynb",
      "provenance": []
    }
  },
  "cells": [
    {
      "cell_type": "markdown",
      "metadata": {
        "id": "lbA78cNI2s1A"
      },
      "source": [
        "# Assignment: Compresive Strength Concrete Problem\n",
        "\n",
        "\n",
        "### Abstract: \n",
        "\n",
        "Concrete is the most important material in civil engineering. The concrete compressive strength (concrete strength to bear the load) is a highly nonlinear function of age and ingredients.  <br><br>\n",
        "\n",
        "<table border=\"1\"  cellpadding=\"6\" bordercolor=\"red\">\n",
        "\t<tbody>\n",
        "        <tr>\n",
        "\t\t<td bgcolor=\"#DDEEFF\"><p class=\"normal\"><b>Data Set Characteristics:&nbsp;&nbsp;</b></p></td>\n",
        "\t\t<td><p class=\"normal\">Multivariate</p></td>\n",
        "\t\t<td bgcolor=\"#DDEEFF\"><p class=\"normal\"><b>Number of Instances:</b></p></td>\n",
        "\t\t<td><p class=\"normal\">1030</p></td>\n",
        "\t\t<td bgcolor=\"#DDEEFF\"><p class=\"normal\"><b>Area:</b></p></td>\n",
        "\t\t<td><p class=\"normal\">Physical</p></td>\n",
        "        </tr>\n",
        "     </tbody>\n",
        "    </table>\n",
        "<table border=\"1\" cellpadding=\"6\">\n",
        "    <tbody>\n",
        "        <tr>\n",
        "            <td bgcolor=\"#DDEEFF\"><p class=\"normal\"><b>Attribute Characteristics:</b></p></td>\n",
        "            <td><p class=\"normal\">Real</p></td>\n",
        "            <td bgcolor=\"#DDEEFF\"><p class=\"normal\"><b>Number of Attributes:</b></p></td>\n",
        "            <td><p class=\"normal\">9</p></td>\n",
        "            <td bgcolor=\"#DDEEFF\"><p class=\"normal\"><b>Date Donated</b></p></td>\n",
        "            <td><p class=\"normal\">2007-08-03</p></td>\n",
        "        </tr>\n",
        "     </tbody>\n",
        "    </table>\n",
        "<table border=\"1\" cellpadding=\"6\">\t\n",
        "    <tbody>\n",
        "    <tr>\n",
        "\t\t<td bgcolor=\"#DDEEFF\"><p class=\"normal\"><b>Associated Tasks:</b></p></td>\n",
        "\t\t<td><p class=\"normal\">Regression</p></td>\n",
        "\t\t<td bgcolor=\"#DDEEFF\"><p class=\"normal\"><b>Missing Values?</b></p></td>\n",
        "\t\t<td><p class=\"normal\">N/A</p></td>\n",
        "\t\t<td bgcolor=\"#DDEEFF\"><p class=\"normal\"><b>Number of Web Hits:</b></p></td>\n",
        "\t\t<td><p class=\"normal\">231464</p></td>\n",
        "\t</tr>\n",
        "    </tbody>\n",
        "    </table>"
      ]
    },
    {
      "cell_type": "markdown",
      "metadata": {
        "id": "bJJ4-Xcc2s1Y"
      },
      "source": [
        "###  Description:\n",
        "| Features Name | Data Type | Measurement | Description |\n",
        "| -- | -- | -- | -- |\n",
        "Cement (component 1) | quantitative | kg in a m3 mixture | Input Variable\n",
        "Blast Furnace Slag (component 2) | quantitative | kg in a m3 mixture | Input Variable\n",
        "Fly Ash (component 3) | quantitative | kg in a m3 mixture | Input Variable\n",
        "Water (component 4) | quantitative | kg in a m3 mixture | Input Variable\n",
        "Superplasticizer (component 5) | quantitative | kg in a m3 mixture | Input Variable\n",
        "Coarse Aggregate (component 6) | quantitative | kg in a m3 mixture | Input Variable\n",
        "Fine Aggregate (component 7) | quantitative | kg in a m3 mixture | Input Variable\n",
        "Age | quantitative | Day (1~365) | Input Variable\n",
        "Concrete compressive strength | quantitative | MPa | Output Variable\n",
        "\n",
        "### WORKFLOW :\n",
        "- Load Data\n",
        "- Check Missing Values ( If Exist ; Fill each record with mean of its feature )\n",
        "- Standardized the Input Variables. **Hint**: Centeralized the data\n",
        "- Split into 50% Training(Samples,Labels) , 30% Test(Samples,Labels) and 20% Validation Data(Samples,Labels).\n",
        "- Model : input Layer (No. of features ), 3 hidden layers including 10,8,6 unit & Output Layer with activation function relu/tanh (check by experiment).\n",
        "- Compilation Step (Note : Its a Regression problem , select loss , metrics according to it)\n",
        "- Train the Model with Epochs (100) and validate it\n",
        "- If the model gets overfit tune your model by changing the units , No. of layers , activation function , epochs , add dropout layer or add Regularizer according to the need .\n",
        "- Evaluation Step\n",
        "- Prediction\n"
      ]
    },
    {
      "cell_type": "markdown",
      "metadata": {
        "id": "yek6FkRr2s1a"
      },
      "source": [
        "# Load Data:\n",
        "[Click Here to Download DataSet](https://github.com/ramsha275/ML_Datasets/blob/main/compresive_strength_concrete.csv)"
      ]
    },
    {
      "cell_type": "code",
      "metadata": {
        "id": "AKdab4mc2s1b"
      },
      "source": [
        "import pandas as pd\r\n",
        "import numpy as np\r\n"
      ],
      "execution_count": 169,
      "outputs": []
    },
    {
      "cell_type": "code",
      "metadata": {
        "id": "iUmnQcWD6gts"
      },
      "source": [
        "data = pd.read_csv('https://raw.githubusercontent.com/ramsha275/ML_Datasets/main/compresive_strength_concrete.csv')"
      ],
      "execution_count": 171,
      "outputs": []
    },
    {
      "cell_type": "code",
      "metadata": {
        "colab": {
          "base_uri": "https://localhost:8080/",
          "height": 470
        },
        "id": "VodTMSx89ABC",
        "outputId": "728da78a-b687-43ff-c684-8c567eae8da6"
      },
      "source": [
        "data"
      ],
      "execution_count": 172,
      "outputs": [
        {
          "output_type": "execute_result",
          "data": {
            "text/html": [
              "<div>\n",
              "<style scoped>\n",
              "    .dataframe tbody tr th:only-of-type {\n",
              "        vertical-align: middle;\n",
              "    }\n",
              "\n",
              "    .dataframe tbody tr th {\n",
              "        vertical-align: top;\n",
              "    }\n",
              "\n",
              "    .dataframe thead th {\n",
              "        text-align: right;\n",
              "    }\n",
              "</style>\n",
              "<table border=\"1\" class=\"dataframe\">\n",
              "  <thead>\n",
              "    <tr style=\"text-align: right;\">\n",
              "      <th></th>\n",
              "      <th>Cement (component 1)(kg in a m^3 mixture)</th>\n",
              "      <th>Blast Furnace Slag (component 2)(kg in a m^3 mixture)</th>\n",
              "      <th>Fly Ash (component 3)(kg in a m^3 mixture)</th>\n",
              "      <th>Water  (component 4)(kg in a m^3 mixture)</th>\n",
              "      <th>Superplasticizer (component 5)(kg in a m^3 mixture)</th>\n",
              "      <th>Coarse Aggregate  (component 6)(kg in a m^3 mixture)</th>\n",
              "      <th>Fine Aggregate (component 7)(kg in a m^3 mixture)</th>\n",
              "      <th>Age (day)</th>\n",
              "      <th>Concrete compressive strength(MPa, megapascals)</th>\n",
              "    </tr>\n",
              "  </thead>\n",
              "  <tbody>\n",
              "    <tr>\n",
              "      <th>0</th>\n",
              "      <td>540.0</td>\n",
              "      <td>0.0</td>\n",
              "      <td>0.0</td>\n",
              "      <td>162.0</td>\n",
              "      <td>2.5</td>\n",
              "      <td>1040.0</td>\n",
              "      <td>676.0</td>\n",
              "      <td>28</td>\n",
              "      <td>79.99</td>\n",
              "    </tr>\n",
              "    <tr>\n",
              "      <th>1</th>\n",
              "      <td>540.0</td>\n",
              "      <td>0.0</td>\n",
              "      <td>0.0</td>\n",
              "      <td>162.0</td>\n",
              "      <td>2.5</td>\n",
              "      <td>1055.0</td>\n",
              "      <td>676.0</td>\n",
              "      <td>28</td>\n",
              "      <td>61.89</td>\n",
              "    </tr>\n",
              "    <tr>\n",
              "      <th>2</th>\n",
              "      <td>332.5</td>\n",
              "      <td>142.5</td>\n",
              "      <td>0.0</td>\n",
              "      <td>228.0</td>\n",
              "      <td>0.0</td>\n",
              "      <td>932.0</td>\n",
              "      <td>594.0</td>\n",
              "      <td>270</td>\n",
              "      <td>40.27</td>\n",
              "    </tr>\n",
              "    <tr>\n",
              "      <th>3</th>\n",
              "      <td>332.5</td>\n",
              "      <td>142.5</td>\n",
              "      <td>0.0</td>\n",
              "      <td>228.0</td>\n",
              "      <td>0.0</td>\n",
              "      <td>932.0</td>\n",
              "      <td>594.0</td>\n",
              "      <td>365</td>\n",
              "      <td>41.05</td>\n",
              "    </tr>\n",
              "    <tr>\n",
              "      <th>4</th>\n",
              "      <td>198.6</td>\n",
              "      <td>132.4</td>\n",
              "      <td>0.0</td>\n",
              "      <td>192.0</td>\n",
              "      <td>0.0</td>\n",
              "      <td>978.4</td>\n",
              "      <td>825.5</td>\n",
              "      <td>360</td>\n",
              "      <td>44.30</td>\n",
              "    </tr>\n",
              "    <tr>\n",
              "      <th>...</th>\n",
              "      <td>...</td>\n",
              "      <td>...</td>\n",
              "      <td>...</td>\n",
              "      <td>...</td>\n",
              "      <td>...</td>\n",
              "      <td>...</td>\n",
              "      <td>...</td>\n",
              "      <td>...</td>\n",
              "      <td>...</td>\n",
              "    </tr>\n",
              "    <tr>\n",
              "      <th>1025</th>\n",
              "      <td>276.4</td>\n",
              "      <td>116.0</td>\n",
              "      <td>90.3</td>\n",
              "      <td>179.6</td>\n",
              "      <td>8.9</td>\n",
              "      <td>870.1</td>\n",
              "      <td>768.3</td>\n",
              "      <td>28</td>\n",
              "      <td>44.28</td>\n",
              "    </tr>\n",
              "    <tr>\n",
              "      <th>1026</th>\n",
              "      <td>322.2</td>\n",
              "      <td>0.0</td>\n",
              "      <td>115.6</td>\n",
              "      <td>196.0</td>\n",
              "      <td>10.4</td>\n",
              "      <td>817.9</td>\n",
              "      <td>813.4</td>\n",
              "      <td>28</td>\n",
              "      <td>31.18</td>\n",
              "    </tr>\n",
              "    <tr>\n",
              "      <th>1027</th>\n",
              "      <td>148.5</td>\n",
              "      <td>139.4</td>\n",
              "      <td>108.6</td>\n",
              "      <td>192.7</td>\n",
              "      <td>6.1</td>\n",
              "      <td>892.4</td>\n",
              "      <td>780.0</td>\n",
              "      <td>28</td>\n",
              "      <td>23.70</td>\n",
              "    </tr>\n",
              "    <tr>\n",
              "      <th>1028</th>\n",
              "      <td>159.1</td>\n",
              "      <td>186.7</td>\n",
              "      <td>0.0</td>\n",
              "      <td>175.6</td>\n",
              "      <td>11.3</td>\n",
              "      <td>989.6</td>\n",
              "      <td>788.9</td>\n",
              "      <td>28</td>\n",
              "      <td>32.77</td>\n",
              "    </tr>\n",
              "    <tr>\n",
              "      <th>1029</th>\n",
              "      <td>260.9</td>\n",
              "      <td>100.5</td>\n",
              "      <td>78.3</td>\n",
              "      <td>200.6</td>\n",
              "      <td>8.6</td>\n",
              "      <td>864.5</td>\n",
              "      <td>761.5</td>\n",
              "      <td>28</td>\n",
              "      <td>32.40</td>\n",
              "    </tr>\n",
              "  </tbody>\n",
              "</table>\n",
              "<p>1030 rows × 9 columns</p>\n",
              "</div>"
            ],
            "text/plain": [
              "      Cement (component 1)(kg in a m^3 mixture)  ...  Concrete compressive strength(MPa, megapascals) \n",
              "0                                         540.0  ...                                             79.99\n",
              "1                                         540.0  ...                                             61.89\n",
              "2                                         332.5  ...                                             40.27\n",
              "3                                         332.5  ...                                             41.05\n",
              "4                                         198.6  ...                                             44.30\n",
              "...                                         ...  ...                                               ...\n",
              "1025                                      276.4  ...                                             44.28\n",
              "1026                                      322.2  ...                                             31.18\n",
              "1027                                      148.5  ...                                             23.70\n",
              "1028                                      159.1  ...                                             32.77\n",
              "1029                                      260.9  ...                                             32.40\n",
              "\n",
              "[1030 rows x 9 columns]"
            ]
          },
          "metadata": {
            "tags": []
          },
          "execution_count": 172
        }
      ]
    },
    {
      "cell_type": "markdown",
      "metadata": {
        "id": "lJVoofdTKFFF"
      },
      "source": [
        "Check Missing Values ( If Exist ; Fill each record with mean of its feature )\r\n"
      ]
    },
    {
      "cell_type": "code",
      "metadata": {
        "colab": {
          "base_uri": "https://localhost:8080/"
        },
        "id": "bINB7dCeJmY-",
        "outputId": "7c720291-8c01-4500-aa85-421e7679de44"
      },
      "source": [
        "data.isna().sum(axis=0)"
      ],
      "execution_count": 173,
      "outputs": [
        {
          "output_type": "execute_result",
          "data": {
            "text/plain": [
              "Cement (component 1)(kg in a m^3 mixture)                0\n",
              "Blast Furnace Slag (component 2)(kg in a m^3 mixture)    0\n",
              "Fly Ash (component 3)(kg in a m^3 mixture)               0\n",
              "Water  (component 4)(kg in a m^3 mixture)                0\n",
              "Superplasticizer (component 5)(kg in a m^3 mixture)      0\n",
              "Coarse Aggregate  (component 6)(kg in a m^3 mixture)     0\n",
              "Fine Aggregate (component 7)(kg in a m^3 mixture)        0\n",
              "Age (day)                                                0\n",
              "Concrete compressive strength(MPa, megapascals)          0\n",
              "dtype: int64"
            ]
          },
          "metadata": {
            "tags": []
          },
          "execution_count": 173
        }
      ]
    },
    {
      "cell_type": "code",
      "metadata": {
        "id": "4BEQKym2Yg_O"
      },
      "source": [
        "X = data.iloc[:, :-1]\r\n",
        "Y = data.iloc[:, -1]"
      ],
      "execution_count": 174,
      "outputs": []
    },
    {
      "cell_type": "markdown",
      "metadata": {
        "id": "jxFkI9MAKPAu"
      },
      "source": [
        "Standardized the Input Variables. Hint: Centeralized the data"
      ]
    },
    {
      "cell_type": "code",
      "metadata": {
        "id": "w6SMAnmFKXxN"
      },
      "source": [
        "mean = X.mean(axis=0)"
      ],
      "execution_count": 175,
      "outputs": []
    },
    {
      "cell_type": "code",
      "metadata": {
        "id": "o47xbOsoK8Wu"
      },
      "source": [
        "X -= mean"
      ],
      "execution_count": 176,
      "outputs": []
    },
    {
      "cell_type": "code",
      "metadata": {
        "colab": {
          "base_uri": "https://localhost:8080/",
          "height": 470
        },
        "id": "yAAXQEFILg-W",
        "outputId": "d818f83b-3abf-466d-dade-4c17217c24bd"
      },
      "source": [
        "X"
      ],
      "execution_count": 177,
      "outputs": [
        {
          "output_type": "execute_result",
          "data": {
            "text/html": [
              "<div>\n",
              "<style scoped>\n",
              "    .dataframe tbody tr th:only-of-type {\n",
              "        vertical-align: middle;\n",
              "    }\n",
              "\n",
              "    .dataframe tbody tr th {\n",
              "        vertical-align: top;\n",
              "    }\n",
              "\n",
              "    .dataframe thead th {\n",
              "        text-align: right;\n",
              "    }\n",
              "</style>\n",
              "<table border=\"1\" class=\"dataframe\">\n",
              "  <thead>\n",
              "    <tr style=\"text-align: right;\">\n",
              "      <th></th>\n",
              "      <th>Cement (component 1)(kg in a m^3 mixture)</th>\n",
              "      <th>Blast Furnace Slag (component 2)(kg in a m^3 mixture)</th>\n",
              "      <th>Fly Ash (component 3)(kg in a m^3 mixture)</th>\n",
              "      <th>Water  (component 4)(kg in a m^3 mixture)</th>\n",
              "      <th>Superplasticizer (component 5)(kg in a m^3 mixture)</th>\n",
              "      <th>Coarse Aggregate  (component 6)(kg in a m^3 mixture)</th>\n",
              "      <th>Fine Aggregate (component 7)(kg in a m^3 mixture)</th>\n",
              "      <th>Age (day)</th>\n",
              "    </tr>\n",
              "  </thead>\n",
              "  <tbody>\n",
              "    <tr>\n",
              "      <th>0</th>\n",
              "      <td>258.832136</td>\n",
              "      <td>-73.895825</td>\n",
              "      <td>-54.18835</td>\n",
              "      <td>-19.567282</td>\n",
              "      <td>-3.70466</td>\n",
              "      <td>67.081068</td>\n",
              "      <td>-97.580485</td>\n",
              "      <td>-17.662136</td>\n",
              "    </tr>\n",
              "    <tr>\n",
              "      <th>1</th>\n",
              "      <td>258.832136</td>\n",
              "      <td>-73.895825</td>\n",
              "      <td>-54.18835</td>\n",
              "      <td>-19.567282</td>\n",
              "      <td>-3.70466</td>\n",
              "      <td>82.081068</td>\n",
              "      <td>-97.580485</td>\n",
              "      <td>-17.662136</td>\n",
              "    </tr>\n",
              "    <tr>\n",
              "      <th>2</th>\n",
              "      <td>51.332136</td>\n",
              "      <td>68.604175</td>\n",
              "      <td>-54.18835</td>\n",
              "      <td>46.432718</td>\n",
              "      <td>-6.20466</td>\n",
              "      <td>-40.918932</td>\n",
              "      <td>-179.580485</td>\n",
              "      <td>224.337864</td>\n",
              "    </tr>\n",
              "    <tr>\n",
              "      <th>3</th>\n",
              "      <td>51.332136</td>\n",
              "      <td>68.604175</td>\n",
              "      <td>-54.18835</td>\n",
              "      <td>46.432718</td>\n",
              "      <td>-6.20466</td>\n",
              "      <td>-40.918932</td>\n",
              "      <td>-179.580485</td>\n",
              "      <td>319.337864</td>\n",
              "    </tr>\n",
              "    <tr>\n",
              "      <th>4</th>\n",
              "      <td>-82.567864</td>\n",
              "      <td>58.504175</td>\n",
              "      <td>-54.18835</td>\n",
              "      <td>10.432718</td>\n",
              "      <td>-6.20466</td>\n",
              "      <td>5.481068</td>\n",
              "      <td>51.919515</td>\n",
              "      <td>314.337864</td>\n",
              "    </tr>\n",
              "    <tr>\n",
              "      <th>...</th>\n",
              "      <td>...</td>\n",
              "      <td>...</td>\n",
              "      <td>...</td>\n",
              "      <td>...</td>\n",
              "      <td>...</td>\n",
              "      <td>...</td>\n",
              "      <td>...</td>\n",
              "      <td>...</td>\n",
              "    </tr>\n",
              "    <tr>\n",
              "      <th>1025</th>\n",
              "      <td>-4.767864</td>\n",
              "      <td>42.104175</td>\n",
              "      <td>36.11165</td>\n",
              "      <td>-1.967282</td>\n",
              "      <td>2.69534</td>\n",
              "      <td>-102.818932</td>\n",
              "      <td>-5.280485</td>\n",
              "      <td>-17.662136</td>\n",
              "    </tr>\n",
              "    <tr>\n",
              "      <th>1026</th>\n",
              "      <td>41.032136</td>\n",
              "      <td>-73.895825</td>\n",
              "      <td>61.41165</td>\n",
              "      <td>14.432718</td>\n",
              "      <td>4.19534</td>\n",
              "      <td>-155.018932</td>\n",
              "      <td>39.819515</td>\n",
              "      <td>-17.662136</td>\n",
              "    </tr>\n",
              "    <tr>\n",
              "      <th>1027</th>\n",
              "      <td>-132.667864</td>\n",
              "      <td>65.504175</td>\n",
              "      <td>54.41165</td>\n",
              "      <td>11.132718</td>\n",
              "      <td>-0.10466</td>\n",
              "      <td>-80.518932</td>\n",
              "      <td>6.419515</td>\n",
              "      <td>-17.662136</td>\n",
              "    </tr>\n",
              "    <tr>\n",
              "      <th>1028</th>\n",
              "      <td>-122.067864</td>\n",
              "      <td>112.804175</td>\n",
              "      <td>-54.18835</td>\n",
              "      <td>-5.967282</td>\n",
              "      <td>5.09534</td>\n",
              "      <td>16.681068</td>\n",
              "      <td>15.319515</td>\n",
              "      <td>-17.662136</td>\n",
              "    </tr>\n",
              "    <tr>\n",
              "      <th>1029</th>\n",
              "      <td>-20.267864</td>\n",
              "      <td>26.604175</td>\n",
              "      <td>24.11165</td>\n",
              "      <td>19.032718</td>\n",
              "      <td>2.39534</td>\n",
              "      <td>-108.418932</td>\n",
              "      <td>-12.080485</td>\n",
              "      <td>-17.662136</td>\n",
              "    </tr>\n",
              "  </tbody>\n",
              "</table>\n",
              "<p>1030 rows × 8 columns</p>\n",
              "</div>"
            ],
            "text/plain": [
              "      Cement (component 1)(kg in a m^3 mixture)  ...   Age (day)\n",
              "0                                    258.832136  ...  -17.662136\n",
              "1                                    258.832136  ...  -17.662136\n",
              "2                                     51.332136  ...  224.337864\n",
              "3                                     51.332136  ...  319.337864\n",
              "4                                    -82.567864  ...  314.337864\n",
              "...                                         ...  ...         ...\n",
              "1025                                  -4.767864  ...  -17.662136\n",
              "1026                                  41.032136  ...  -17.662136\n",
              "1027                                -132.667864  ...  -17.662136\n",
              "1028                                -122.067864  ...  -17.662136\n",
              "1029                                 -20.267864  ...  -17.662136\n",
              "\n",
              "[1030 rows x 8 columns]"
            ]
          },
          "metadata": {
            "tags": []
          },
          "execution_count": 177
        }
      ]
    },
    {
      "cell_type": "code",
      "metadata": {
        "id": "NQXylDQsLiRl"
      },
      "source": [
        "std = X.std(axis=0)"
      ],
      "execution_count": 178,
      "outputs": []
    },
    {
      "cell_type": "code",
      "metadata": {
        "colab": {
          "base_uri": "https://localhost:8080/"
        },
        "id": "t0qFyax6Lsqq",
        "outputId": "4949d29d-aa06-4014-c776-4b2202f9136c"
      },
      "source": [
        "std"
      ],
      "execution_count": 179,
      "outputs": [
        {
          "output_type": "execute_result",
          "data": {
            "text/plain": [
              "Cement (component 1)(kg in a m^3 mixture)                104.506364\n",
              "Blast Furnace Slag (component 2)(kg in a m^3 mixture)     86.279342\n",
              "Fly Ash (component 3)(kg in a m^3 mixture)                63.997004\n",
              "Water  (component 4)(kg in a m^3 mixture)                 21.354219\n",
              "Superplasticizer (component 5)(kg in a m^3 mixture)        5.973841\n",
              "Coarse Aggregate  (component 6)(kg in a m^3 mixture)      77.753954\n",
              "Fine Aggregate (component 7)(kg in a m^3 mixture)         80.175980\n",
              "Age (day)                                                 63.169912\n",
              "dtype: float64"
            ]
          },
          "metadata": {
            "tags": []
          },
          "execution_count": 179
        }
      ]
    },
    {
      "cell_type": "code",
      "metadata": {
        "id": "EkchEuw0L8mF"
      },
      "source": [
        "X /= std"
      ],
      "execution_count": 180,
      "outputs": []
    },
    {
      "cell_type": "code",
      "metadata": {
        "colab": {
          "base_uri": "https://localhost:8080/",
          "height": 470
        },
        "id": "AOepO-fgM8H8",
        "outputId": "f654f290-8f97-45e7-faf9-5ca273a9d36a"
      },
      "source": [
        "X"
      ],
      "execution_count": 181,
      "outputs": [
        {
          "output_type": "execute_result",
          "data": {
            "text/html": [
              "<div>\n",
              "<style scoped>\n",
              "    .dataframe tbody tr th:only-of-type {\n",
              "        vertical-align: middle;\n",
              "    }\n",
              "\n",
              "    .dataframe tbody tr th {\n",
              "        vertical-align: top;\n",
              "    }\n",
              "\n",
              "    .dataframe thead th {\n",
              "        text-align: right;\n",
              "    }\n",
              "</style>\n",
              "<table border=\"1\" class=\"dataframe\">\n",
              "  <thead>\n",
              "    <tr style=\"text-align: right;\">\n",
              "      <th></th>\n",
              "      <th>Cement (component 1)(kg in a m^3 mixture)</th>\n",
              "      <th>Blast Furnace Slag (component 2)(kg in a m^3 mixture)</th>\n",
              "      <th>Fly Ash (component 3)(kg in a m^3 mixture)</th>\n",
              "      <th>Water  (component 4)(kg in a m^3 mixture)</th>\n",
              "      <th>Superplasticizer (component 5)(kg in a m^3 mixture)</th>\n",
              "      <th>Coarse Aggregate  (component 6)(kg in a m^3 mixture)</th>\n",
              "      <th>Fine Aggregate (component 7)(kg in a m^3 mixture)</th>\n",
              "      <th>Age (day)</th>\n",
              "    </tr>\n",
              "  </thead>\n",
              "  <tbody>\n",
              "    <tr>\n",
              "      <th>0</th>\n",
              "      <td>2.476712</td>\n",
              "      <td>-0.856472</td>\n",
              "      <td>-0.846733</td>\n",
              "      <td>-0.916319</td>\n",
              "      <td>-0.620147</td>\n",
              "      <td>0.862735</td>\n",
              "      <td>-1.217079</td>\n",
              "      <td>-0.279597</td>\n",
              "    </tr>\n",
              "    <tr>\n",
              "      <th>1</th>\n",
              "      <td>2.476712</td>\n",
              "      <td>-0.856472</td>\n",
              "      <td>-0.846733</td>\n",
              "      <td>-0.916319</td>\n",
              "      <td>-0.620147</td>\n",
              "      <td>1.055651</td>\n",
              "      <td>-1.217079</td>\n",
              "      <td>-0.279597</td>\n",
              "    </tr>\n",
              "    <tr>\n",
              "      <th>2</th>\n",
              "      <td>0.491187</td>\n",
              "      <td>0.795140</td>\n",
              "      <td>-0.846733</td>\n",
              "      <td>2.174405</td>\n",
              "      <td>-1.038638</td>\n",
              "      <td>-0.526262</td>\n",
              "      <td>-2.239829</td>\n",
              "      <td>3.551340</td>\n",
              "    </tr>\n",
              "    <tr>\n",
              "      <th>3</th>\n",
              "      <td>0.491187</td>\n",
              "      <td>0.795140</td>\n",
              "      <td>-0.846733</td>\n",
              "      <td>2.174405</td>\n",
              "      <td>-1.038638</td>\n",
              "      <td>-0.526262</td>\n",
              "      <td>-2.239829</td>\n",
              "      <td>5.055221</td>\n",
              "    </tr>\n",
              "    <tr>\n",
              "      <th>4</th>\n",
              "      <td>-0.790075</td>\n",
              "      <td>0.678079</td>\n",
              "      <td>-0.846733</td>\n",
              "      <td>0.488555</td>\n",
              "      <td>-1.038638</td>\n",
              "      <td>0.070492</td>\n",
              "      <td>0.647569</td>\n",
              "      <td>4.976069</td>\n",
              "    </tr>\n",
              "    <tr>\n",
              "      <th>...</th>\n",
              "      <td>...</td>\n",
              "      <td>...</td>\n",
              "      <td>...</td>\n",
              "      <td>...</td>\n",
              "      <td>...</td>\n",
              "      <td>...</td>\n",
              "      <td>...</td>\n",
              "      <td>...</td>\n",
              "    </tr>\n",
              "    <tr>\n",
              "      <th>1025</th>\n",
              "      <td>-0.045623</td>\n",
              "      <td>0.487998</td>\n",
              "      <td>0.564271</td>\n",
              "      <td>-0.092126</td>\n",
              "      <td>0.451190</td>\n",
              "      <td>-1.322363</td>\n",
              "      <td>-0.065861</td>\n",
              "      <td>-0.279597</td>\n",
              "    </tr>\n",
              "    <tr>\n",
              "      <th>1026</th>\n",
              "      <td>0.392628</td>\n",
              "      <td>-0.856472</td>\n",
              "      <td>0.959602</td>\n",
              "      <td>0.675872</td>\n",
              "      <td>0.702285</td>\n",
              "      <td>-1.993711</td>\n",
              "      <td>0.496651</td>\n",
              "      <td>-0.279597</td>\n",
              "    </tr>\n",
              "    <tr>\n",
              "      <th>1027</th>\n",
              "      <td>-1.269472</td>\n",
              "      <td>0.759210</td>\n",
              "      <td>0.850222</td>\n",
              "      <td>0.521336</td>\n",
              "      <td>-0.017520</td>\n",
              "      <td>-1.035561</td>\n",
              "      <td>0.080068</td>\n",
              "      <td>-0.279597</td>\n",
              "    </tr>\n",
              "    <tr>\n",
              "      <th>1028</th>\n",
              "      <td>-1.168042</td>\n",
              "      <td>1.307430</td>\n",
              "      <td>-0.846733</td>\n",
              "      <td>-0.279443</td>\n",
              "      <td>0.852942</td>\n",
              "      <td>0.214537</td>\n",
              "      <td>0.191074</td>\n",
              "      <td>-0.279597</td>\n",
              "    </tr>\n",
              "    <tr>\n",
              "      <th>1029</th>\n",
              "      <td>-0.193939</td>\n",
              "      <td>0.308349</td>\n",
              "      <td>0.376762</td>\n",
              "      <td>0.891286</td>\n",
              "      <td>0.400971</td>\n",
              "      <td>-1.394385</td>\n",
              "      <td>-0.150675</td>\n",
              "      <td>-0.279597</td>\n",
              "    </tr>\n",
              "  </tbody>\n",
              "</table>\n",
              "<p>1030 rows × 8 columns</p>\n",
              "</div>"
            ],
            "text/plain": [
              "      Cement (component 1)(kg in a m^3 mixture)  ...  Age (day)\n",
              "0                                      2.476712  ...  -0.279597\n",
              "1                                      2.476712  ...  -0.279597\n",
              "2                                      0.491187  ...   3.551340\n",
              "3                                      0.491187  ...   5.055221\n",
              "4                                     -0.790075  ...   4.976069\n",
              "...                                         ...  ...        ...\n",
              "1025                                  -0.045623  ...  -0.279597\n",
              "1026                                   0.392628  ...  -0.279597\n",
              "1027                                  -1.269472  ...  -0.279597\n",
              "1028                                  -1.168042  ...  -0.279597\n",
              "1029                                  -0.193939  ...  -0.279597\n",
              "\n",
              "[1030 rows x 8 columns]"
            ]
          },
          "metadata": {
            "tags": []
          },
          "execution_count": 181
        }
      ]
    },
    {
      "cell_type": "markdown",
      "metadata": {
        "id": "eddTgehkNEg2"
      },
      "source": [
        "Split into 50% Training(Samples,Labels) , 30% Test(Samples,Labels) and 20% Validation Data(Samples,Labels)."
      ]
    },
    {
      "cell_type": "code",
      "metadata": {
        "id": "EDtuW_S0NXRY"
      },
      "source": [
        "X = data.iloc[:, :-1]\r\n",
        "Y = data.iloc[:, -1]"
      ],
      "execution_count": 122,
      "outputs": []
    },
    {
      "cell_type": "code",
      "metadata": {
        "id": "x934EXSsOIaw"
      },
      "source": [
        "size = len(X)"
      ],
      "execution_count": 182,
      "outputs": []
    },
    {
      "cell_type": "code",
      "metadata": {
        "colab": {
          "base_uri": "https://localhost:8080/"
        },
        "id": "iKwm-YFiQjBK",
        "outputId": "685c7530-08b2-4eda-d897-f9fe2bb5c95e"
      },
      "source": [
        "size"
      ],
      "execution_count": 183,
      "outputs": [
        {
          "output_type": "execute_result",
          "data": {
            "text/plain": [
              "1030"
            ]
          },
          "metadata": {
            "tags": []
          },
          "execution_count": 183
        }
      ]
    },
    {
      "cell_type": "code",
      "metadata": {
        "id": "3_7L3AWGQkEb"
      },
      "source": [
        "train_data = X[:int(size*0.50)].values\r\n",
        "train_targets = Y[:int(size*0.50)].values"
      ],
      "execution_count": 184,
      "outputs": []
    },
    {
      "cell_type": "code",
      "metadata": {
        "id": "3KHZWlK-QyMa"
      },
      "source": [
        "test_data = X[int(size*0.50) : int(size*0.80)].values\r\n",
        "test_targets = Y[int(size*0.50) : int(size*0.80)].values"
      ],
      "execution_count": 185,
      "outputs": []
    },
    {
      "cell_type": "code",
      "metadata": {
        "colab": {
          "base_uri": "https://localhost:8080/"
        },
        "id": "stxxbuYeQzPy",
        "outputId": "1ebc1135-a1b1-46ce-8508-7bcf0dc0ed87"
      },
      "source": [
        "test_targets"
      ],
      "execution_count": 186,
      "outputs": [
        {
          "output_type": "execute_result",
          "data": {
            "text/plain": [
              "array([21.97,  9.85, 15.07, 23.25, 43.73, 13.4 , 24.13, 44.52, 62.94,\n",
              "       59.49, 25.12, 23.64, 35.75, 38.61, 68.75, 66.78, 23.85, 32.07,\n",
              "       11.65, 19.2 , 48.85, 39.6 , 43.94, 34.57, 54.32, 24.4 , 15.62,\n",
              "       21.86, 10.22, 14.6 , 18.75, 31.97, 23.4 , 25.57, 41.68, 27.74,\n",
              "        8.2 ,  9.62, 25.42, 15.69, 27.94, 32.63, 17.24, 19.77, 39.44,\n",
              "       25.75, 33.08, 24.07, 21.82, 21.07, 14.84, 32.05, 11.96, 25.45,\n",
              "       22.49, 25.22, 39.7 , 13.09, 38.7 ,  7.51, 17.58, 21.18, 18.2 ,\n",
              "       17.2 , 22.63, 21.86, 12.37, 25.73, 37.81, 21.92, 33.04, 14.54,\n",
              "       26.91,  8.  , 31.9 , 10.34, 19.77, 37.44, 11.48, 24.44, 17.6 ,\n",
              "       10.73, 31.38, 13.22, 20.97, 27.04, 32.04, 35.17, 36.45, 38.89,\n",
              "        6.47, 12.84, 18.42, 21.95, 24.1 , 25.08, 21.26, 25.97, 11.36,\n",
              "       31.25, 32.33, 33.7 ,  9.31, 26.94, 27.63, 29.79, 34.49, 36.15,\n",
              "       12.54, 27.53, 32.92,  9.99,  7.84, 12.25, 11.17, 17.34, 17.54,\n",
              "       30.57, 14.2 , 24.5 , 15.58, 26.85, 26.06, 38.21, 43.7 , 30.14,\n",
              "       12.73, 20.87, 20.28, 34.29, 19.54, 47.71, 43.38, 29.89,  6.9 ,\n",
              "       33.19,  4.9 ,  4.57, 25.46, 24.29, 33.95, 11.41, 20.59, 25.89,\n",
              "       29.23, 31.02, 10.39, 33.66, 27.87, 19.35, 11.39, 12.79, 39.32,\n",
              "        4.78, 16.11, 43.38, 20.42,  6.94, 15.03, 13.57, 32.53, 15.75,\n",
              "        7.68, 38.8 , 33.  , 17.28, 24.28, 24.05, 36.59, 50.73, 13.66,\n",
              "       14.14, 47.78,  2.33, 16.89, 23.52,  6.81, 39.7 , 17.96, 32.88,\n",
              "       22.35, 10.79,  7.72, 41.68,  9.56,  6.88, 50.53, 17.17, 30.44,\n",
              "        9.73,  3.32, 26.32, 43.25,  6.28, 32.1 , 36.96, 54.6 , 21.48,\n",
              "        9.69,  8.37, 39.66, 10.09,  4.83, 10.35, 43.57, 51.86, 11.85,\n",
              "       17.24, 27.83, 35.76, 38.7 , 14.31, 17.44, 31.74, 37.91, 39.38,\n",
              "       15.87,  9.01, 33.61, 40.66, 40.86, 12.05, 17.54, 18.91, 25.18,\n",
              "       30.96, 43.89, 54.28, 36.94, 14.5 , 22.44, 12.64, 26.06, 33.21,\n",
              "       36.94, 44.09, 52.61, 59.76, 67.31, 69.66, 71.62, 74.17, 18.13,\n",
              "       22.53, 27.34, 29.98, 31.35, 32.72,  6.27, 14.7 , 23.22, 27.92,\n",
              "       31.35, 39.  , 41.24, 14.99, 13.52, 24.  , 37.42, 11.47, 22.44,\n",
              "       21.16, 31.84, 14.8 , 25.18, 17.54, 14.2 , 21.65, 29.39, 13.52,\n",
              "       16.26, 31.45, 37.23, 18.13, 32.72, 39.49, 41.05, 42.13, 18.13,\n",
              "       26.74, 61.92, 47.22, 51.04, 55.16, 41.64, 13.71, 19.69, 31.65,\n",
              "       19.11, 39.58, 48.79, 24.  , 37.42, 11.47, 19.69, 14.99, 27.92,\n",
              "       34.68, 37.33, 38.11, 33.8 , 42.42, 48.4 , 55.94, 58.78, 67.11,\n",
              "       20.77, 25.18, 29.59])"
            ]
          },
          "metadata": {
            "tags": []
          },
          "execution_count": 186
        }
      ]
    },
    {
      "cell_type": "code",
      "metadata": {
        "id": "iyteAwxiRN0z"
      },
      "source": [
        "val_data = X[int(size*0.80):].values\r\n",
        "val_targets = Y[int(size*0.80):].values"
      ],
      "execution_count": 187,
      "outputs": []
    },
    {
      "cell_type": "code",
      "metadata": {
        "id": "bR6eso6LRfCY"
      },
      "source": [
        ""
      ],
      "execution_count": 187,
      "outputs": []
    },
    {
      "cell_type": "code",
      "metadata": {
        "id": "BFZjPdftRgNI"
      },
      "source": [
        "from tensorflow.keras import models , layers, regularizers"
      ],
      "execution_count": 188,
      "outputs": []
    },
    {
      "cell_type": "code",
      "metadata": {
        "id": "as_uGnRiR-oQ"
      },
      "source": [
        "model = models.Sequential()"
      ],
      "execution_count": 196,
      "outputs": []
    },
    {
      "cell_type": "code",
      "metadata": {
        "id": "Zk67SO20SDBH"
      },
      "source": [
        "model.add(layers.Dense(16, activation='relu', kernel_regularizer= regularizers.l1(0.3),input_shape=(train_data.shape[1],)))\r\n",
        "model.add(layers.Dense(16, activation='relu'))\r\n",
        "model.add(layers.Dense(1))\r\n",
        "model.compile(optimizer='rmsprop', loss='mse', metrics=['mae'])\r\n"
      ],
      "execution_count": 197,
      "outputs": []
    },
    {
      "cell_type": "code",
      "metadata": {
        "colab": {
          "base_uri": "https://localhost:8080/"
        },
        "id": "GayIsWFESKdv",
        "outputId": "b520ba40-3aa2-46f3-fa83-b7e13c173cc3"
      },
      "source": [
        "history = model.fit(train_data,train_targets, epochs=50, batch_size= 1, validation_data=(val_data,val_targets))"
      ],
      "execution_count": 198,
      "outputs": [
        {
          "output_type": "stream",
          "text": [
            "Epoch 1/50\n",
            "515/515 [==============================] - 1s 1ms/step - loss: 2037.6637 - mae: 41.6087 - val_loss: 712.7925 - val_mae: 23.3422\n",
            "Epoch 2/50\n",
            "515/515 [==============================] - 1s 1ms/step - loss: 804.9045 - mae: 23.0911 - val_loss: 254.5086 - val_mae: 12.8600\n",
            "Epoch 3/50\n",
            "515/515 [==============================] - 1s 1ms/step - loss: 245.9783 - mae: 12.1694 - val_loss: 195.4589 - val_mae: 11.1694\n",
            "Epoch 4/50\n",
            "515/515 [==============================] - 1s 1ms/step - loss: 203.3943 - mae: 11.2419 - val_loss: 179.5374 - val_mae: 10.5188\n",
            "Epoch 5/50\n",
            "515/515 [==============================] - 1s 1ms/step - loss: 193.3190 - mae: 10.6253 - val_loss: 176.7282 - val_mae: 10.4381\n",
            "Epoch 6/50\n",
            "515/515 [==============================] - 1s 1ms/step - loss: 174.7545 - mae: 9.9921 - val_loss: 188.6427 - val_mae: 10.7372\n",
            "Epoch 7/50\n",
            "515/515 [==============================] - 1s 1ms/step - loss: 193.1520 - mae: 10.5424 - val_loss: 172.8172 - val_mae: 10.0843\n",
            "Epoch 8/50\n",
            "515/515 [==============================] - 1s 1ms/step - loss: 167.3737 - mae: 9.7964 - val_loss: 173.1733 - val_mae: 10.0171\n",
            "Epoch 9/50\n",
            "515/515 [==============================] - 1s 1ms/step - loss: 167.3619 - mae: 9.9706 - val_loss: 172.0978 - val_mae: 9.9606\n",
            "Epoch 10/50\n",
            "515/515 [==============================] - 1s 1ms/step - loss: 166.2224 - mae: 9.7856 - val_loss: 169.3553 - val_mae: 9.8407\n",
            "Epoch 11/50\n",
            "515/515 [==============================] - 1s 1ms/step - loss: 167.9469 - mae: 9.8354 - val_loss: 163.7898 - val_mae: 9.6053\n",
            "Epoch 12/50\n",
            "515/515 [==============================] - 1s 1ms/step - loss: 183.1596 - mae: 10.4920 - val_loss: 171.9305 - val_mae: 9.8946\n",
            "Epoch 13/50\n",
            "515/515 [==============================] - 1s 1ms/step - loss: 168.8422 - mae: 9.6982 - val_loss: 162.1537 - val_mae: 9.5753\n",
            "Epoch 14/50\n",
            "515/515 [==============================] - 1s 1ms/step - loss: 148.3587 - mae: 8.9429 - val_loss: 160.9794 - val_mae: 9.5682\n",
            "Epoch 15/50\n",
            "515/515 [==============================] - 1s 1ms/step - loss: 153.0071 - mae: 9.5360 - val_loss: 150.6908 - val_mae: 9.2713\n",
            "Epoch 16/50\n",
            "515/515 [==============================] - 1s 1ms/step - loss: 184.6402 - mae: 10.0608 - val_loss: 156.9588 - val_mae: 9.4783\n",
            "Epoch 17/50\n",
            "515/515 [==============================] - 1s 1ms/step - loss: 165.7084 - mae: 9.5126 - val_loss: 158.5658 - val_mae: 9.5639\n",
            "Epoch 18/50\n",
            "515/515 [==============================] - 1s 1ms/step - loss: 163.6046 - mae: 9.6715 - val_loss: 160.3520 - val_mae: 9.6095\n",
            "Epoch 19/50\n",
            "515/515 [==============================] - 1s 1ms/step - loss: 149.2588 - mae: 9.1906 - val_loss: 157.9155 - val_mae: 9.4094\n",
            "Epoch 20/50\n",
            "515/515 [==============================] - 1s 1ms/step - loss: 155.9209 - mae: 9.3687 - val_loss: 154.5839 - val_mae: 9.3594\n",
            "Epoch 21/50\n",
            "515/515 [==============================] - 1s 1ms/step - loss: 157.0371 - mae: 9.3027 - val_loss: 154.2219 - val_mae: 9.3269\n",
            "Epoch 22/50\n",
            "515/515 [==============================] - 1s 1ms/step - loss: 159.8927 - mae: 9.6254 - val_loss: 150.8910 - val_mae: 9.2099\n",
            "Epoch 23/50\n",
            "515/515 [==============================] - 1s 1ms/step - loss: 150.3190 - mae: 8.9935 - val_loss: 156.2213 - val_mae: 9.3466\n",
            "Epoch 24/50\n",
            "515/515 [==============================] - 1s 1ms/step - loss: 119.5183 - mae: 7.9288 - val_loss: 150.7356 - val_mae: 9.1734\n",
            "Epoch 25/50\n",
            "515/515 [==============================] - 1s 1ms/step - loss: 145.1879 - mae: 8.6897 - val_loss: 150.8069 - val_mae: 9.1683\n",
            "Epoch 26/50\n",
            "515/515 [==============================] - 1s 1ms/step - loss: 124.4970 - mae: 8.0744 - val_loss: 144.7194 - val_mae: 9.0162\n",
            "Epoch 27/50\n",
            "515/515 [==============================] - 1s 1ms/step - loss: 144.3703 - mae: 8.7694 - val_loss: 154.3000 - val_mae: 9.2391\n",
            "Epoch 28/50\n",
            "515/515 [==============================] - 1s 1ms/step - loss: 126.4408 - mae: 8.4027 - val_loss: 149.4219 - val_mae: 9.1363\n",
            "Epoch 29/50\n",
            "515/515 [==============================] - 1s 1ms/step - loss: 127.9365 - mae: 8.3611 - val_loss: 145.9453 - val_mae: 8.9983\n",
            "Epoch 30/50\n",
            "515/515 [==============================] - 1s 1ms/step - loss: 121.1414 - mae: 8.0152 - val_loss: 151.9679 - val_mae: 9.2213\n",
            "Epoch 31/50\n",
            "515/515 [==============================] - 1s 1ms/step - loss: 134.6519 - mae: 8.3986 - val_loss: 141.6167 - val_mae: 8.8755\n",
            "Epoch 32/50\n",
            "515/515 [==============================] - 1s 1ms/step - loss: 115.9263 - mae: 7.7952 - val_loss: 144.1869 - val_mae: 8.9457\n",
            "Epoch 33/50\n",
            "515/515 [==============================] - 1s 1ms/step - loss: 128.7478 - mae: 8.2340 - val_loss: 141.2319 - val_mae: 8.8960\n",
            "Epoch 34/50\n",
            "515/515 [==============================] - 1s 1ms/step - loss: 117.4354 - mae: 7.9633 - val_loss: 132.8818 - val_mae: 8.6002\n",
            "Epoch 35/50\n",
            "515/515 [==============================] - 1s 1ms/step - loss: 123.0893 - mae: 7.9104 - val_loss: 144.0396 - val_mae: 8.9825\n",
            "Epoch 36/50\n",
            "515/515 [==============================] - 1s 1ms/step - loss: 127.9163 - mae: 8.3888 - val_loss: 127.4517 - val_mae: 8.4206\n",
            "Epoch 37/50\n",
            "515/515 [==============================] - 1s 1ms/step - loss: 118.9782 - mae: 8.1451 - val_loss: 135.4283 - val_mae: 8.6889\n",
            "Epoch 38/50\n",
            "515/515 [==============================] - 1s 1ms/step - loss: 106.6407 - mae: 7.3432 - val_loss: 127.9703 - val_mae: 8.4471\n",
            "Epoch 39/50\n",
            "515/515 [==============================] - 1s 1ms/step - loss: 114.5458 - mae: 7.6483 - val_loss: 124.6453 - val_mae: 8.3370\n",
            "Epoch 40/50\n",
            "515/515 [==============================] - 1s 1ms/step - loss: 132.1805 - mae: 8.4405 - val_loss: 113.8645 - val_mae: 7.9314\n",
            "Epoch 41/50\n",
            "515/515 [==============================] - 1s 1ms/step - loss: 105.5281 - mae: 7.4919 - val_loss: 123.0758 - val_mae: 8.2428\n",
            "Epoch 42/50\n",
            "515/515 [==============================] - 1s 1ms/step - loss: 102.7071 - mae: 7.3508 - val_loss: 120.4564 - val_mae: 8.1667\n",
            "Epoch 43/50\n",
            "515/515 [==============================] - 1s 1ms/step - loss: 103.4134 - mae: 7.5547 - val_loss: 122.9186 - val_mae: 8.2512\n",
            "Epoch 44/50\n",
            "515/515 [==============================] - 1s 1ms/step - loss: 97.7320 - mae: 7.1038 - val_loss: 121.6105 - val_mae: 8.1661\n",
            "Epoch 45/50\n",
            "515/515 [==============================] - 1s 1ms/step - loss: 102.3131 - mae: 7.2116 - val_loss: 120.8378 - val_mae: 8.1978\n",
            "Epoch 46/50\n",
            "515/515 [==============================] - 1s 1ms/step - loss: 102.1457 - mae: 7.3084 - val_loss: 123.6181 - val_mae: 8.2323\n",
            "Epoch 47/50\n",
            "515/515 [==============================] - 1s 1ms/step - loss: 100.8479 - mae: 7.1241 - val_loss: 115.9414 - val_mae: 8.0230\n",
            "Epoch 48/50\n",
            "515/515 [==============================] - 1s 1ms/step - loss: 91.5899 - mae: 6.8622 - val_loss: 117.8300 - val_mae: 8.0757\n",
            "Epoch 49/50\n",
            "515/515 [==============================] - 1s 1ms/step - loss: 100.1127 - mae: 7.0356 - val_loss: 120.6803 - val_mae: 8.2811\n",
            "Epoch 50/50\n",
            "515/515 [==============================] - 1s 1ms/step - loss: 92.2400 - mae: 6.8483 - val_loss: 116.7251 - val_mae: 8.0521\n"
          ],
          "name": "stdout"
        }
      ]
    },
    {
      "cell_type": "code",
      "metadata": {
        "id": "Pww-dQc5SaB3"
      },
      "source": [
        "eval_dict = history.history"
      ],
      "execution_count": 199,
      "outputs": []
    },
    {
      "cell_type": "code",
      "metadata": {
        "id": "ry4n6EoYSvx9"
      },
      "source": [
        "df = pd.DataFrame(eval_dict)"
      ],
      "execution_count": 200,
      "outputs": []
    },
    {
      "cell_type": "code",
      "metadata": {
        "colab": {
          "base_uri": "https://localhost:8080/",
          "height": 282
        },
        "id": "1-ILeByiSwvV",
        "outputId": "9f7371c2-8195-4b0e-a035-857637a0bddd"
      },
      "source": [
        "df.plot(y=['loss', 'val_loss'],label = ['Training Loss', \"Validation loss\"])"
      ],
      "execution_count": 201,
      "outputs": [
        {
          "output_type": "execute_result",
          "data": {
            "text/plain": [
              "<matplotlib.axes._subplots.AxesSubplot at 0x7fa3159df590>"
            ]
          },
          "metadata": {
            "tags": []
          },
          "execution_count": 201
        },
        {
          "output_type": "display_data",
          "data": {
            "image/png": "[encoded data removed]",
            "text/plain": [
              "<Figure size 432x288 with 1 Axes>"
            ]
          },
          "metadata": {
            "tags": [],
            "needs_background": "light"
          }
        }
      ]
    },
    {
      "cell_type": "code",
      "metadata": {
        "colab": {
          "base_uri": "https://localhost:8080/"
        },
        "id": "oGA_smuiS3yt",
        "outputId": "da563b72-150e-49d3-8223-c8babcea2cc1"
      },
      "source": [
        "model.predict(test_data)"
      ],
      "execution_count": 202,
      "outputs": [
        {
          "output_type": "execute_result",
          "data": {
            "text/plain": [
              "array([[24.689161],\n",
              "       [20.665293],\n",
              "       [21.192165],\n",
              "       [28.973402],\n",
              "       [39.660458],\n",
              "       [32.63531 ],\n",
              "       [33.633488],\n",
              "       [45.99832 ],\n",
              "       [50.38752 ],\n",
              "       [50.38752 ],\n",
              "       [40.783867],\n",
              "       [40.783867],\n",
              "       [42.320454],\n",
              "       [42.320454],\n",
              "       [60.116505],\n",
              "       [60.116505],\n",
              "       [36.41397 ],\n",
              "       [29.72103 ],\n",
              "       [21.406246],\n",
              "       [30.797659],\n",
              "       [38.856167],\n",
              "       [34.043713],\n",
              "       [42.074955],\n",
              "       [40.07366 ],\n",
              "       [47.382854],\n",
              "       [39.657795],\n",
              "       [24.571302],\n",
              "       [28.430576],\n",
              "       [20.037695],\n",
              "       [21.530767],\n",
              "       [22.501905],\n",
              "       [27.746655],\n",
              "       [24.862394],\n",
              "       [24.071287],\n",
              "       [32.928207],\n",
              "       [31.201931],\n",
              "       [19.893442],\n",
              "       [25.921412],\n",
              "       [43.41232 ],\n",
              "       [27.72581 ],\n",
              "       [35.160114],\n",
              "       [37.719418],\n",
              "       [29.508635],\n",
              "       [31.291502],\n",
              "       [47.705837],\n",
              "       [30.80924 ],\n",
              "       [38.16064 ],\n",
              "       [33.857796],\n",
              "       [36.32304 ],\n",
              "       [30.612158],\n",
              "       [26.668753],\n",
              "       [34.186905],\n",
              "       [24.291365],\n",
              "       [35.002285],\n",
              "       [38.21391 ],\n",
              "       [30.473896],\n",
              "       [45.174587],\n",
              "       [25.939516],\n",
              "       [41.50623 ],\n",
              "       [22.8953  ],\n",
              "       [25.716413],\n",
              "       [30.397451],\n",
              "       [27.28871 ],\n",
              "       [32.104404],\n",
              "       [29.16109 ],\n",
              "       [33.428516],\n",
              "       [29.766626],\n",
              "       [26.439287],\n",
              "       [41.38517 ],\n",
              "       [40.57493 ],\n",
              "       [38.005337],\n",
              "       [35.297775],\n",
              "       [32.59553 ],\n",
              "       [22.378841],\n",
              "       [33.828342],\n",
              "       [21.94047 ],\n",
              "       [26.85557 ],\n",
              "       [37.117985],\n",
              "       [23.12807 ],\n",
              "       [37.077454],\n",
              "       [27.248562],\n",
              "       [21.645893],\n",
              "       [35.897068],\n",
              "       [25.418016],\n",
              "       [25.768888],\n",
              "       [26.620924],\n",
              "       [29.085432],\n",
              "       [34.067066],\n",
              "       [42.32469 ],\n",
              "       [66.96095 ],\n",
              "       [17.02067 ],\n",
              "       [18.118467],\n",
              "       [20.279104],\n",
              "       [25.549067],\n",
              "       [34.391487],\n",
              "       [58.98814 ],\n",
              "       [21.317202],\n",
              "       [23.29672 ],\n",
              "       [20.361898],\n",
              "       [29.228224],\n",
              "       [38.835804],\n",
              "       [63.339424],\n",
              "       [18.039217],\n",
              "       [26.378014],\n",
              "       [34.068516],\n",
              "       [58.237362],\n",
              "       [40.880123],\n",
              "       [65.82228 ],\n",
              "       [22.893843],\n",
              "       [26.316076],\n",
              "       [31.559555],\n",
              "       [17.437239],\n",
              "       [19.927967],\n",
              "       [23.38043 ],\n",
              "       [21.440165],\n",
              "       [24.81323 ],\n",
              "       [29.111303],\n",
              "       [32.36483 ],\n",
              "       [24.992777],\n",
              "       [28.59443 ],\n",
              "       [26.868473],\n",
              "       [30.359556],\n",
              "       [32.613293],\n",
              "       [35.882397],\n",
              "       [37.38989 ],\n",
              "       [34.3309  ],\n",
              "       [23.042273],\n",
              "       [26.47402 ],\n",
              "       [30.577171],\n",
              "       [33.88819 ],\n",
              "       [33.267117],\n",
              "       [37.353077],\n",
              "       [34.996593],\n",
              "       [24.356981],\n",
              "       [25.509995],\n",
              "       [26.911781],\n",
              "       [17.957098],\n",
              "       [13.125083],\n",
              "       [22.7252  ],\n",
              "       [20.825129],\n",
              "       [29.374584],\n",
              "       [19.966604],\n",
              "       [18.035345],\n",
              "       [34.285984],\n",
              "       [23.886364],\n",
              "       [25.411154],\n",
              "       [21.187727],\n",
              "       [27.797747],\n",
              "       [22.815798],\n",
              "       [27.183105],\n",
              "       [16.95865 ],\n",
              "       [30.440985],\n",
              "       [35.36762 ],\n",
              "       [14.206806],\n",
              "       [31.249773],\n",
              "       [37.3653  ],\n",
              "       [25.492445],\n",
              "       [16.474232],\n",
              "       [22.023186],\n",
              "       [24.9101  ],\n",
              "       [28.437128],\n",
              "       [25.994581],\n",
              "       [13.60845 ],\n",
              "       [35.083344],\n",
              "       [25.81534 ],\n",
              "       [16.994131],\n",
              "       [21.049726],\n",
              "       [21.951708],\n",
              "       [29.283651],\n",
              "       [43.38185 ],\n",
              "       [19.139977],\n",
              "       [33.77793 ],\n",
              "       [36.53046 ],\n",
              "       [14.451372],\n",
              "       [23.756159],\n",
              "       [31.825089],\n",
              "       [21.44787 ],\n",
              "       [32.361732],\n",
              "       [17.9804  ],\n",
              "       [29.568163],\n",
              "       [19.17954 ],\n",
              "       [18.441519],\n",
              "       [14.935792],\n",
              "       [36.65437 ],\n",
              "       [32.597378],\n",
              "       [18.655388],\n",
              "       [43.218174],\n",
              "       [20.541922],\n",
              "       [24.817036],\n",
              "       [26.607788],\n",
              "       [17.195213],\n",
              "       [23.828733],\n",
              "       [31.761488],\n",
              "       [15.193932],\n",
              "       [27.478273],\n",
              "       [30.732773],\n",
              "       [44.152306],\n",
              "       [31.173437],\n",
              "       [23.271568],\n",
              "       [14.690175],\n",
              "       [30.79513 ],\n",
              "       [15.678349],\n",
              "       [20.703138],\n",
              "       [17.679632],\n",
              "       [36.161396],\n",
              "       [44.072063],\n",
              "       [23.528019],\n",
              "       [23.922201],\n",
              "       [26.937983],\n",
              "       [33.510845],\n",
              "       [36.313995],\n",
              "       [25.604712],\n",
              "       [26.09159 ],\n",
              "       [29.304403],\n",
              "       [35.736847],\n",
              "       [38.681095],\n",
              "       [28.2148  ],\n",
              "       [28.774328],\n",
              "       [32.026653],\n",
              "       [38.469025],\n",
              "       [41.45609 ],\n",
              "       [21.873693],\n",
              "       [25.666798],\n",
              "       [26.589186],\n",
              "       [30.382627],\n",
              "       [25.592905],\n",
              "       [41.93128 ],\n",
              "       [47.295914],\n",
              "       [38.05929 ],\n",
              "       [25.537268],\n",
              "       [29.654903],\n",
              "       [43.525208],\n",
              "       [43.808014],\n",
              "       [44.295193],\n",
              "       [45.069054],\n",
              "       [46.566578],\n",
              "       [56.74503 ],\n",
              "       [57.89615 ],\n",
              "       [59.77614 ],\n",
              "       [67.980286],\n",
              "       [79.84515 ],\n",
              "       [91.71004 ],\n",
              "       [25.882113],\n",
              "       [26.800236],\n",
              "       [29.333128],\n",
              "       [32.081047],\n",
              "       [34.2985  ],\n",
              "       [41.22624 ],\n",
              "       [31.398594],\n",
              "       [31.642036],\n",
              "       [32.12891 ],\n",
              "       [32.98095 ],\n",
              "       [34.870396],\n",
              "       [43.85526 ],\n",
              "       [68.57585 ],\n",
              "       [27.934752],\n",
              "       [24.96919 ],\n",
              "       [33.704365],\n",
              "       [36.97978 ],\n",
              "       [35.473133],\n",
              "       [29.422232],\n",
              "       [30.564434],\n",
              "       [33.971706],\n",
              "       [26.195593],\n",
              "       [29.875566],\n",
              "       [25.811049],\n",
              "       [25.189682],\n",
              "       [28.88928 ],\n",
              "       [36.047207],\n",
              "       [25.02867 ],\n",
              "       [25.449503],\n",
              "       [28.408304],\n",
              "       [33.858707],\n",
              "       [28.494284],\n",
              "       [31.790758],\n",
              "       [38.15389 ],\n",
              "       [47.99498 ],\n",
              "       [72.32252 ],\n",
              "       [22.222313],\n",
              "       [36.96809 ],\n",
              "       [70.18095 ],\n",
              "       [52.883293],\n",
              "       [61.978363],\n",
              "       [73.84325 ],\n",
              "       [56.044113],\n",
              "       [23.221777],\n",
              "       [26.920603],\n",
              "       [33.678185],\n",
              "       [31.226545],\n",
              "       [34.577045],\n",
              "       [39.125973],\n",
              "       [33.97699 ],\n",
              "       [37.210644],\n",
              "       [23.004627],\n",
              "       [26.920603],\n",
              "       [23.033598],\n",
              "       [26.004774],\n",
              "       [31.63839 ],\n",
              "       [41.60279 ],\n",
              "       [66.353226],\n",
              "       [49.140987],\n",
              "       [49.7066  ],\n",
              "       [50.53636 ],\n",
              "       [51.486897],\n",
              "       [58.316074],\n",
              "       [82.04581 ],\n",
              "       [23.90142 ],\n",
              "       [26.429213],\n",
              "       [38.705406]], dtype=float32)"
            ]
          },
          "metadata": {
            "tags": []
          },
          "execution_count": 202
        }
      ]
    },
    {
      "cell_type": "code",
      "metadata": {
        "id": "5KvSGsv1VGQK"
      },
      "source": [
        "corr = data.corr()"
      ],
      "execution_count": 203,
      "outputs": []
    },
    {
      "cell_type": "code",
      "metadata": {
        "colab": {
          "base_uri": "https://localhost:8080/",
          "height": 552
        },
        "id": "GF52bRsrXZGC",
        "outputId": "105b2134-0f37-449e-f6f5-ca84620bc867"
      },
      "source": [
        "corr.style.background_gradient(cmap='coolwarm')"
      ],
      "execution_count": 204,
      "outputs": [
        {
          "output_type": "execute_result",
          "data": {
            "text/html": [
              "<style  type=\"text/css\" >\n",
              "#T_f3fc80e4_86fe_11eb_92bd_0242ac1c0002row0_col0,#T_f3fc80e4_86fe_11eb_92bd_0242ac1c0002row1_col1,#T_f3fc80e4_86fe_11eb_92bd_0242ac1c0002row2_col2,#T_f3fc80e4_86fe_11eb_92bd_0242ac1c0002row3_col3,#T_f3fc80e4_86fe_11eb_92bd_0242ac1c0002row4_col4,#T_f3fc80e4_86fe_11eb_92bd_0242ac1c0002row5_col5,#T_f3fc80e4_86fe_11eb_92bd_0242ac1c0002row6_col6,#T_f3fc80e4_86fe_11eb_92bd_0242ac1c0002row7_col7,#T_f3fc80e4_86fe_11eb_92bd_0242ac1c0002row8_col8{\n",
              "            background-color:  #b40426;\n",
              "            color:  #f1f1f1;\n",
              "        }#T_f3fc80e4_86fe_11eb_92bd_0242ac1c0002row0_col1{\n",
              "            background-color:  #455cce;\n",
              "            color:  #f1f1f1;\n",
              "        }#T_f3fc80e4_86fe_11eb_92bd_0242ac1c0002row0_col2,#T_f3fc80e4_86fe_11eb_92bd_0242ac1c0002row1_col5,#T_f3fc80e4_86fe_11eb_92bd_0242ac1c0002row2_col0,#T_f3fc80e4_86fe_11eb_92bd_0242ac1c0002row2_col1,#T_f3fc80e4_86fe_11eb_92bd_0242ac1c0002row3_col4,#T_f3fc80e4_86fe_11eb_92bd_0242ac1c0002row3_col6,#T_f3fc80e4_86fe_11eb_92bd_0242ac1c0002row3_col8,#T_f3fc80e4_86fe_11eb_92bd_0242ac1c0002row4_col3,#T_f3fc80e4_86fe_11eb_92bd_0242ac1c0002row4_col7{\n",
              "            background-color:  #3b4cc0;\n",
              "            color:  #f1f1f1;\n",
              "        }#T_f3fc80e4_86fe_11eb_92bd_0242ac1c0002row0_col3,#T_f3fc80e4_86fe_11eb_92bd_0242ac1c0002row8_col1{\n",
              "            background-color:  #aec9fc;\n",
              "            color:  #000000;\n",
              "        }#T_f3fc80e4_86fe_11eb_92bd_0242ac1c0002row0_col4{\n",
              "            background-color:  #cfdaea;\n",
              "            color:  #000000;\n",
              "        }#T_f3fc80e4_86fe_11eb_92bd_0242ac1c0002row0_col5{\n",
              "            background-color:  #6485ec;\n",
              "            color:  #000000;\n",
              "        }#T_f3fc80e4_86fe_11eb_92bd_0242ac1c0002row0_col6,#T_f3fc80e4_86fe_11eb_92bd_0242ac1c0002row5_col7{\n",
              "            background-color:  #6c8ff1;\n",
              "            color:  #000000;\n",
              "        }#T_f3fc80e4_86fe_11eb_92bd_0242ac1c0002row0_col7{\n",
              "            background-color:  #85a8fc;\n",
              "            color:  #000000;\n",
              "        }#T_f3fc80e4_86fe_11eb_92bd_0242ac1c0002row0_col8{\n",
              "            background-color:  #f3c8b2;\n",
              "            color:  #000000;\n",
              "        }#T_f3fc80e4_86fe_11eb_92bd_0242ac1c0002row1_col0{\n",
              "            background-color:  #5572df;\n",
              "            color:  #000000;\n",
              "        }#T_f3fc80e4_86fe_11eb_92bd_0242ac1c0002row1_col2{\n",
              "            background-color:  #4a63d3;\n",
              "            color:  #f1f1f1;\n",
              "        }#T_f3fc80e4_86fe_11eb_92bd_0242ac1c0002row1_col3,#T_f3fc80e4_86fe_11eb_92bd_0242ac1c0002row4_col6{\n",
              "            background-color:  #d3dbe7;\n",
              "            color:  #000000;\n",
              "        }#T_f3fc80e4_86fe_11eb_92bd_0242ac1c0002row1_col4{\n",
              "            background-color:  #c7d7f0;\n",
              "            color:  #000000;\n",
              "        }#T_f3fc80e4_86fe_11eb_92bd_0242ac1c0002row1_col6{\n",
              "            background-color:  #5e7de7;\n",
              "            color:  #000000;\n",
              "        }#T_f3fc80e4_86fe_11eb_92bd_0242ac1c0002row1_col7,#T_f3fc80e4_86fe_11eb_92bd_0242ac1c0002row6_col3{\n",
              "            background-color:  #6180e9;\n",
              "            color:  #000000;\n",
              "        }#T_f3fc80e4_86fe_11eb_92bd_0242ac1c0002row1_col8{\n",
              "            background-color:  #a9c6fd;\n",
              "            color:  #000000;\n",
              "        }#T_f3fc80e4_86fe_11eb_92bd_0242ac1c0002row2_col3{\n",
              "            background-color:  #89acfd;\n",
              "            color:  #000000;\n",
              "        }#T_f3fc80e4_86fe_11eb_92bd_0242ac1c0002row2_col4{\n",
              "            background-color:  #f4c5ad;\n",
              "            color:  #000000;\n",
              "        }#T_f3fc80e4_86fe_11eb_92bd_0242ac1c0002row2_col5,#T_f3fc80e4_86fe_11eb_92bd_0242ac1c0002row7_col1{\n",
              "            background-color:  #80a3fa;\n",
              "            color:  #000000;\n",
              "        }#T_f3fc80e4_86fe_11eb_92bd_0242ac1c0002row2_col6{\n",
              "            background-color:  #b5cdfa;\n",
              "            color:  #000000;\n",
              "        }#T_f3fc80e4_86fe_11eb_92bd_0242ac1c0002row2_col7,#T_f3fc80e4_86fe_11eb_92bd_0242ac1c0002row6_col1{\n",
              "            background-color:  #445acc;\n",
              "            color:  #f1f1f1;\n",
              "        }#T_f3fc80e4_86fe_11eb_92bd_0242ac1c0002row2_col8{\n",
              "            background-color:  #6788ee;\n",
              "            color:  #000000;\n",
              "        }#T_f3fc80e4_86fe_11eb_92bd_0242ac1c0002row3_col0{\n",
              "            background-color:  #84a7fc;\n",
              "            color:  #000000;\n",
              "        }#T_f3fc80e4_86fe_11eb_92bd_0242ac1c0002row3_col1{\n",
              "            background-color:  #a7c5fe;\n",
              "            color:  #000000;\n",
              "        }#T_f3fc80e4_86fe_11eb_92bd_0242ac1c0002row3_col2{\n",
              "            background-color:  #5977e3;\n",
              "            color:  #000000;\n",
              "        }#T_f3fc80e4_86fe_11eb_92bd_0242ac1c0002row3_col5{\n",
              "            background-color:  #536edd;\n",
              "            color:  #000000;\n",
              "        }#T_f3fc80e4_86fe_11eb_92bd_0242ac1c0002row3_col7{\n",
              "            background-color:  #bed2f6;\n",
              "            color:  #000000;\n",
              "        }#T_f3fc80e4_86fe_11eb_92bd_0242ac1c0002row4_col0{\n",
              "            background-color:  #afcafc;\n",
              "            color:  #000000;\n",
              "        }#T_f3fc80e4_86fe_11eb_92bd_0242ac1c0002row4_col1,#T_f3fc80e4_86fe_11eb_92bd_0242ac1c0002row5_col2{\n",
              "            background-color:  #96b7ff;\n",
              "            color:  #000000;\n",
              "        }#T_f3fc80e4_86fe_11eb_92bd_0242ac1c0002row4_col2{\n",
              "            background-color:  #ead5c9;\n",
              "            color:  #000000;\n",
              "        }#T_f3fc80e4_86fe_11eb_92bd_0242ac1c0002row4_col5{\n",
              "            background-color:  #3e51c5;\n",
              "            color:  #f1f1f1;\n",
              "        }#T_f3fc80e4_86fe_11eb_92bd_0242ac1c0002row4_col8{\n",
              "            background-color:  #dfdbd9;\n",
              "            color:  #000000;\n",
              "        }#T_f3fc80e4_86fe_11eb_92bd_0242ac1c0002row5_col0{\n",
              "            background-color:  #7da0f9;\n",
              "            color:  #000000;\n",
              "        }#T_f3fc80e4_86fe_11eb_92bd_0242ac1c0002row5_col1,#T_f3fc80e4_86fe_11eb_92bd_0242ac1c0002row6_col7{\n",
              "            background-color:  #4358cb;\n",
              "            color:  #f1f1f1;\n",
              "        }#T_f3fc80e4_86fe_11eb_92bd_0242ac1c0002row5_col3{\n",
              "            background-color:  #9abbff;\n",
              "            color:  #000000;\n",
              "        }#T_f3fc80e4_86fe_11eb_92bd_0242ac1c0002row5_col4{\n",
              "            background-color:  #88abfd;\n",
              "            color:  #000000;\n",
              "        }#T_f3fc80e4_86fe_11eb_92bd_0242ac1c0002row5_col6{\n",
              "            background-color:  #779af7;\n",
              "            color:  #000000;\n",
              "        }#T_f3fc80e4_86fe_11eb_92bd_0242ac1c0002row5_col8,#T_f3fc80e4_86fe_11eb_92bd_0242ac1c0002row6_col8{\n",
              "            background-color:  #5875e1;\n",
              "            color:  #000000;\n",
              "        }#T_f3fc80e4_86fe_11eb_92bd_0242ac1c0002row6_col0{\n",
              "            background-color:  #6282ea;\n",
              "            color:  #000000;\n",
              "        }#T_f3fc80e4_86fe_11eb_92bd_0242ac1c0002row6_col2,#T_f3fc80e4_86fe_11eb_92bd_0242ac1c0002row7_col0{\n",
              "            background-color:  #adc9fd;\n",
              "            color:  #000000;\n",
              "        }#T_f3fc80e4_86fe_11eb_92bd_0242ac1c0002row6_col4{\n",
              "            background-color:  #e4d9d2;\n",
              "            color:  #000000;\n",
              "        }#T_f3fc80e4_86fe_11eb_92bd_0242ac1c0002row6_col5{\n",
              "            background-color:  #5470de;\n",
              "            color:  #000000;\n",
              "        }#T_f3fc80e4_86fe_11eb_92bd_0242ac1c0002row7_col2{\n",
              "            background-color:  #7295f4;\n",
              "            color:  #000000;\n",
              "        }#T_f3fc80e4_86fe_11eb_92bd_0242ac1c0002row7_col3{\n",
              "            background-color:  #ecd3c5;\n",
              "            color:  #000000;\n",
              "        }#T_f3fc80e4_86fe_11eb_92bd_0242ac1c0002row7_col4{\n",
              "            background-color:  #97b8ff;\n",
              "            color:  #000000;\n",
              "        }#T_f3fc80e4_86fe_11eb_92bd_0242ac1c0002row7_col5,#T_f3fc80e4_86fe_11eb_92bd_0242ac1c0002row8_col3{\n",
              "            background-color:  #82a6fb;\n",
              "            color:  #000000;\n",
              "        }#T_f3fc80e4_86fe_11eb_92bd_0242ac1c0002row7_col6{\n",
              "            background-color:  #7b9ff9;\n",
              "            color:  #000000;\n",
              "        }#T_f3fc80e4_86fe_11eb_92bd_0242ac1c0002row7_col8{\n",
              "            background-color:  #d7dce3;\n",
              "            color:  #000000;\n",
              "        }#T_f3fc80e4_86fe_11eb_92bd_0242ac1c0002row8_col0{\n",
              "            background-color:  #f6bfa6;\n",
              "            color:  #000000;\n",
              "        }#T_f3fc80e4_86fe_11eb_92bd_0242ac1c0002row8_col2{\n",
              "            background-color:  #7ea1fa;\n",
              "            color:  #000000;\n",
              "        }#T_f3fc80e4_86fe_11eb_92bd_0242ac1c0002row8_col4{\n",
              "            background-color:  #f4c6af;\n",
              "            color:  #000000;\n",
              "        }#T_f3fc80e4_86fe_11eb_92bd_0242ac1c0002row8_col5{\n",
              "            background-color:  #5673e0;\n",
              "            color:  #000000;\n",
              "        }#T_f3fc80e4_86fe_11eb_92bd_0242ac1c0002row8_col6{\n",
              "            background-color:  #7a9df8;\n",
              "            color:  #000000;\n",
              "        }#T_f3fc80e4_86fe_11eb_92bd_0242ac1c0002row8_col7{\n",
              "            background-color:  #cbd8ee;\n",
              "            color:  #000000;\n",
              "        }</style><table id=\"T_f3fc80e4_86fe_11eb_92bd_0242ac1c0002\" ><thead>    <tr>        <th class=\"blank level0\" ></th>        <th class=\"col_heading level0 col0\" >Cement (component 1)(kg in a m^3 mixture)</th>        <th class=\"col_heading level0 col1\" >Blast Furnace Slag (component 2)(kg in a m^3 mixture)</th>        <th class=\"col_heading level0 col2\" >Fly Ash (component 3)(kg in a m^3 mixture)</th>        <th class=\"col_heading level0 col3\" >Water  (component 4)(kg in a m^3 mixture)</th>        <th class=\"col_heading level0 col4\" >Superplasticizer (component 5)(kg in a m^3 mixture)</th>        <th class=\"col_heading level0 col5\" >Coarse Aggregate  (component 6)(kg in a m^3 mixture)</th>        <th class=\"col_heading level0 col6\" >Fine Aggregate (component 7)(kg in a m^3 mixture)</th>        <th class=\"col_heading level0 col7\" >Age (day)</th>        <th class=\"col_heading level0 col8\" >Concrete compressive strength(MPa, megapascals) </th>    </tr></thead><tbody>\n",
              "                <tr>\n",
              "                        <th id=\"T_f3fc80e4_86fe_11eb_92bd_0242ac1c0002level0_row0\" class=\"row_heading level0 row0\" >Cement (component 1)(kg in a m^3 mixture)</th>\n",
              "                        <td id=\"T_f3fc80e4_86fe_11eb_92bd_0242ac1c0002row0_col0\" class=\"data row0 col0\" >1.000000</td>\n",
              "                        <td id=\"T_f3fc80e4_86fe_11eb_92bd_0242ac1c0002row0_col1\" class=\"data row0 col1\" >-0.275216</td>\n",
              "                        <td id=\"T_f3fc80e4_86fe_11eb_92bd_0242ac1c0002row0_col2\" class=\"data row0 col2\" >-0.397467</td>\n",
              "                        <td id=\"T_f3fc80e4_86fe_11eb_92bd_0242ac1c0002row0_col3\" class=\"data row0 col3\" >-0.081587</td>\n",
              "                        <td id=\"T_f3fc80e4_86fe_11eb_92bd_0242ac1c0002row0_col4\" class=\"data row0 col4\" >0.092386</td>\n",
              "                        <td id=\"T_f3fc80e4_86fe_11eb_92bd_0242ac1c0002row0_col5\" class=\"data row0 col5\" >-0.109349</td>\n",
              "                        <td id=\"T_f3fc80e4_86fe_11eb_92bd_0242ac1c0002row0_col6\" class=\"data row0 col6\" >-0.222718</td>\n",
              "                        <td id=\"T_f3fc80e4_86fe_11eb_92bd_0242ac1c0002row0_col7\" class=\"data row0 col7\" >0.081946</td>\n",
              "                        <td id=\"T_f3fc80e4_86fe_11eb_92bd_0242ac1c0002row0_col8\" class=\"data row0 col8\" >0.497832</td>\n",
              "            </tr>\n",
              "            <tr>\n",
              "                        <th id=\"T_f3fc80e4_86fe_11eb_92bd_0242ac1c0002level0_row1\" class=\"row_heading level0 row1\" >Blast Furnace Slag (component 2)(kg in a m^3 mixture)</th>\n",
              "                        <td id=\"T_f3fc80e4_86fe_11eb_92bd_0242ac1c0002row1_col0\" class=\"data row1 col0\" >-0.275216</td>\n",
              "                        <td id=\"T_f3fc80e4_86fe_11eb_92bd_0242ac1c0002row1_col1\" class=\"data row1 col1\" >1.000000</td>\n",
              "                        <td id=\"T_f3fc80e4_86fe_11eb_92bd_0242ac1c0002row1_col2\" class=\"data row1 col2\" >-0.323580</td>\n",
              "                        <td id=\"T_f3fc80e4_86fe_11eb_92bd_0242ac1c0002row1_col3\" class=\"data row1 col3\" >0.107252</td>\n",
              "                        <td id=\"T_f3fc80e4_86fe_11eb_92bd_0242ac1c0002row1_col4\" class=\"data row1 col4\" >0.043270</td>\n",
              "                        <td id=\"T_f3fc80e4_86fe_11eb_92bd_0242ac1c0002row1_col5\" class=\"data row1 col5\" >-0.283999</td>\n",
              "                        <td id=\"T_f3fc80e4_86fe_11eb_92bd_0242ac1c0002row1_col6\" class=\"data row1 col6\" >-0.281603</td>\n",
              "                        <td id=\"T_f3fc80e4_86fe_11eb_92bd_0242ac1c0002row1_col7\" class=\"data row1 col7\" >-0.044246</td>\n",
              "                        <td id=\"T_f3fc80e4_86fe_11eb_92bd_0242ac1c0002row1_col8\" class=\"data row1 col8\" >0.134829</td>\n",
              "            </tr>\n",
              "            <tr>\n",
              "                        <th id=\"T_f3fc80e4_86fe_11eb_92bd_0242ac1c0002level0_row2\" class=\"row_heading level0 row2\" >Fly Ash (component 3)(kg in a m^3 mixture)</th>\n",
              "                        <td id=\"T_f3fc80e4_86fe_11eb_92bd_0242ac1c0002row2_col0\" class=\"data row2 col0\" >-0.397467</td>\n",
              "                        <td id=\"T_f3fc80e4_86fe_11eb_92bd_0242ac1c0002row2_col1\" class=\"data row2 col1\" >-0.323580</td>\n",
              "                        <td id=\"T_f3fc80e4_86fe_11eb_92bd_0242ac1c0002row2_col2\" class=\"data row2 col2\" >1.000000</td>\n",
              "                        <td id=\"T_f3fc80e4_86fe_11eb_92bd_0242ac1c0002row2_col3\" class=\"data row2 col3\" >-0.256984</td>\n",
              "                        <td id=\"T_f3fc80e4_86fe_11eb_92bd_0242ac1c0002row2_col4\" class=\"data row2 col4\" >0.377503</td>\n",
              "                        <td id=\"T_f3fc80e4_86fe_11eb_92bd_0242ac1c0002row2_col5\" class=\"data row2 col5\" >-0.009961</td>\n",
              "                        <td id=\"T_f3fc80e4_86fe_11eb_92bd_0242ac1c0002row2_col6\" class=\"data row2 col6\" >0.079108</td>\n",
              "                        <td id=\"T_f3fc80e4_86fe_11eb_92bd_0242ac1c0002row2_col7\" class=\"data row2 col7\" >-0.154371</td>\n",
              "                        <td id=\"T_f3fc80e4_86fe_11eb_92bd_0242ac1c0002row2_col8\" class=\"data row2 col8\" >-0.105755</td>\n",
              "            </tr>\n",
              "            <tr>\n",
              "                        <th id=\"T_f3fc80e4_86fe_11eb_92bd_0242ac1c0002level0_row3\" class=\"row_heading level0 row3\" >Water  (component 4)(kg in a m^3 mixture)</th>\n",
              "                        <td id=\"T_f3fc80e4_86fe_11eb_92bd_0242ac1c0002row3_col0\" class=\"data row3 col0\" >-0.081587</td>\n",
              "                        <td id=\"T_f3fc80e4_86fe_11eb_92bd_0242ac1c0002row3_col1\" class=\"data row3 col1\" >0.107252</td>\n",
              "                        <td id=\"T_f3fc80e4_86fe_11eb_92bd_0242ac1c0002row3_col2\" class=\"data row3 col2\" >-0.256984</td>\n",
              "                        <td id=\"T_f3fc80e4_86fe_11eb_92bd_0242ac1c0002row3_col3\" class=\"data row3 col3\" >1.000000</td>\n",
              "                        <td id=\"T_f3fc80e4_86fe_11eb_92bd_0242ac1c0002row3_col4\" class=\"data row3 col4\" >-0.657533</td>\n",
              "                        <td id=\"T_f3fc80e4_86fe_11eb_92bd_0242ac1c0002row3_col5\" class=\"data row3 col5\" >-0.182294</td>\n",
              "                        <td id=\"T_f3fc80e4_86fe_11eb_92bd_0242ac1c0002row3_col6\" class=\"data row3 col6\" >-0.450661</td>\n",
              "                        <td id=\"T_f3fc80e4_86fe_11eb_92bd_0242ac1c0002row3_col7\" class=\"data row3 col7\" >0.277618</td>\n",
              "                        <td id=\"T_f3fc80e4_86fe_11eb_92bd_0242ac1c0002row3_col8\" class=\"data row3 col8\" >-0.289633</td>\n",
              "            </tr>\n",
              "            <tr>\n",
              "                        <th id=\"T_f3fc80e4_86fe_11eb_92bd_0242ac1c0002level0_row4\" class=\"row_heading level0 row4\" >Superplasticizer (component 5)(kg in a m^3 mixture)</th>\n",
              "                        <td id=\"T_f3fc80e4_86fe_11eb_92bd_0242ac1c0002row4_col0\" class=\"data row4 col0\" >0.092386</td>\n",
              "                        <td id=\"T_f3fc80e4_86fe_11eb_92bd_0242ac1c0002row4_col1\" class=\"data row4 col1\" >0.043270</td>\n",
              "                        <td id=\"T_f3fc80e4_86fe_11eb_92bd_0242ac1c0002row4_col2\" class=\"data row4 col2\" >0.377503</td>\n",
              "                        <td id=\"T_f3fc80e4_86fe_11eb_92bd_0242ac1c0002row4_col3\" class=\"data row4 col3\" >-0.657533</td>\n",
              "                        <td id=\"T_f3fc80e4_86fe_11eb_92bd_0242ac1c0002row4_col4\" class=\"data row4 col4\" >1.000000</td>\n",
              "                        <td id=\"T_f3fc80e4_86fe_11eb_92bd_0242ac1c0002row4_col5\" class=\"data row4 col5\" >-0.265999</td>\n",
              "                        <td id=\"T_f3fc80e4_86fe_11eb_92bd_0242ac1c0002row4_col6\" class=\"data row4 col6\" >0.222691</td>\n",
              "                        <td id=\"T_f3fc80e4_86fe_11eb_92bd_0242ac1c0002row4_col7\" class=\"data row4 col7\" >-0.192700</td>\n",
              "                        <td id=\"T_f3fc80e4_86fe_11eb_92bd_0242ac1c0002row4_col8\" class=\"data row4 col8\" >0.366079</td>\n",
              "            </tr>\n",
              "            <tr>\n",
              "                        <th id=\"T_f3fc80e4_86fe_11eb_92bd_0242ac1c0002level0_row5\" class=\"row_heading level0 row5\" >Coarse Aggregate  (component 6)(kg in a m^3 mixture)</th>\n",
              "                        <td id=\"T_f3fc80e4_86fe_11eb_92bd_0242ac1c0002row5_col0\" class=\"data row5 col0\" >-0.109349</td>\n",
              "                        <td id=\"T_f3fc80e4_86fe_11eb_92bd_0242ac1c0002row5_col1\" class=\"data row5 col1\" >-0.283999</td>\n",
              "                        <td id=\"T_f3fc80e4_86fe_11eb_92bd_0242ac1c0002row5_col2\" class=\"data row5 col2\" >-0.009961</td>\n",
              "                        <td id=\"T_f3fc80e4_86fe_11eb_92bd_0242ac1c0002row5_col3\" class=\"data row5 col3\" >-0.182294</td>\n",
              "                        <td id=\"T_f3fc80e4_86fe_11eb_92bd_0242ac1c0002row5_col4\" class=\"data row5 col4\" >-0.265999</td>\n",
              "                        <td id=\"T_f3fc80e4_86fe_11eb_92bd_0242ac1c0002row5_col5\" class=\"data row5 col5\" >1.000000</td>\n",
              "                        <td id=\"T_f3fc80e4_86fe_11eb_92bd_0242ac1c0002row5_col6\" class=\"data row5 col6\" >-0.178481</td>\n",
              "                        <td id=\"T_f3fc80e4_86fe_11eb_92bd_0242ac1c0002row5_col7\" class=\"data row5 col7\" >-0.003016</td>\n",
              "                        <td id=\"T_f3fc80e4_86fe_11eb_92bd_0242ac1c0002row5_col8\" class=\"data row5 col8\" >-0.164935</td>\n",
              "            </tr>\n",
              "            <tr>\n",
              "                        <th id=\"T_f3fc80e4_86fe_11eb_92bd_0242ac1c0002level0_row6\" class=\"row_heading level0 row6\" >Fine Aggregate (component 7)(kg in a m^3 mixture)</th>\n",
              "                        <td id=\"T_f3fc80e4_86fe_11eb_92bd_0242ac1c0002row6_col0\" class=\"data row6 col0\" >-0.222718</td>\n",
              "                        <td id=\"T_f3fc80e4_86fe_11eb_92bd_0242ac1c0002row6_col1\" class=\"data row6 col1\" >-0.281603</td>\n",
              "                        <td id=\"T_f3fc80e4_86fe_11eb_92bd_0242ac1c0002row6_col2\" class=\"data row6 col2\" >0.079108</td>\n",
              "                        <td id=\"T_f3fc80e4_86fe_11eb_92bd_0242ac1c0002row6_col3\" class=\"data row6 col3\" >-0.450661</td>\n",
              "                        <td id=\"T_f3fc80e4_86fe_11eb_92bd_0242ac1c0002row6_col4\" class=\"data row6 col4\" >0.222691</td>\n",
              "                        <td id=\"T_f3fc80e4_86fe_11eb_92bd_0242ac1c0002row6_col5\" class=\"data row6 col5\" >-0.178481</td>\n",
              "                        <td id=\"T_f3fc80e4_86fe_11eb_92bd_0242ac1c0002row6_col6\" class=\"data row6 col6\" >1.000000</td>\n",
              "                        <td id=\"T_f3fc80e4_86fe_11eb_92bd_0242ac1c0002row6_col7\" class=\"data row6 col7\" >-0.156095</td>\n",
              "                        <td id=\"T_f3fc80e4_86fe_11eb_92bd_0242ac1c0002row6_col8\" class=\"data row6 col8\" >-0.167241</td>\n",
              "            </tr>\n",
              "            <tr>\n",
              "                        <th id=\"T_f3fc80e4_86fe_11eb_92bd_0242ac1c0002level0_row7\" class=\"row_heading level0 row7\" >Age (day)</th>\n",
              "                        <td id=\"T_f3fc80e4_86fe_11eb_92bd_0242ac1c0002row7_col0\" class=\"data row7 col0\" >0.081946</td>\n",
              "                        <td id=\"T_f3fc80e4_86fe_11eb_92bd_0242ac1c0002row7_col1\" class=\"data row7 col1\" >-0.044246</td>\n",
              "                        <td id=\"T_f3fc80e4_86fe_11eb_92bd_0242ac1c0002row7_col2\" class=\"data row7 col2\" >-0.154371</td>\n",
              "                        <td id=\"T_f3fc80e4_86fe_11eb_92bd_0242ac1c0002row7_col3\" class=\"data row7 col3\" >0.277618</td>\n",
              "                        <td id=\"T_f3fc80e4_86fe_11eb_92bd_0242ac1c0002row7_col4\" class=\"data row7 col4\" >-0.192700</td>\n",
              "                        <td id=\"T_f3fc80e4_86fe_11eb_92bd_0242ac1c0002row7_col5\" class=\"data row7 col5\" >-0.003016</td>\n",
              "                        <td id=\"T_f3fc80e4_86fe_11eb_92bd_0242ac1c0002row7_col6\" class=\"data row7 col6\" >-0.156095</td>\n",
              "                        <td id=\"T_f3fc80e4_86fe_11eb_92bd_0242ac1c0002row7_col7\" class=\"data row7 col7\" >1.000000</td>\n",
              "                        <td id=\"T_f3fc80e4_86fe_11eb_92bd_0242ac1c0002row7_col8\" class=\"data row7 col8\" >0.328873</td>\n",
              "            </tr>\n",
              "            <tr>\n",
              "                        <th id=\"T_f3fc80e4_86fe_11eb_92bd_0242ac1c0002level0_row8\" class=\"row_heading level0 row8\" >Concrete compressive strength(MPa, megapascals) </th>\n",
              "                        <td id=\"T_f3fc80e4_86fe_11eb_92bd_0242ac1c0002row8_col0\" class=\"data row8 col0\" >0.497832</td>\n",
              "                        <td id=\"T_f3fc80e4_86fe_11eb_92bd_0242ac1c0002row8_col1\" class=\"data row8 col1\" >0.134829</td>\n",
              "                        <td id=\"T_f3fc80e4_86fe_11eb_92bd_0242ac1c0002row8_col2\" class=\"data row8 col2\" >-0.105755</td>\n",
              "                        <td id=\"T_f3fc80e4_86fe_11eb_92bd_0242ac1c0002row8_col3\" class=\"data row8 col3\" >-0.289633</td>\n",
              "                        <td id=\"T_f3fc80e4_86fe_11eb_92bd_0242ac1c0002row8_col4\" class=\"data row8 col4\" >0.366079</td>\n",
              "                        <td id=\"T_f3fc80e4_86fe_11eb_92bd_0242ac1c0002row8_col5\" class=\"data row8 col5\" >-0.164935</td>\n",
              "                        <td id=\"T_f3fc80e4_86fe_11eb_92bd_0242ac1c0002row8_col6\" class=\"data row8 col6\" >-0.167241</td>\n",
              "                        <td id=\"T_f3fc80e4_86fe_11eb_92bd_0242ac1c0002row8_col7\" class=\"data row8 col7\" >0.328873</td>\n",
              "                        <td id=\"T_f3fc80e4_86fe_11eb_92bd_0242ac1c0002row8_col8\" class=\"data row8 col8\" >1.000000</td>\n",
              "            </tr>\n",
              "    </tbody></table>"
            ],
            "text/plain": [
              "<pandas.io.formats.style.Styler at 0x7fa3191b9cd0>"
            ]
          },
          "metadata": {
            "tags": []
          },
          "execution_count": 204
        }
      ]
    },
    {
      "cell_type": "code",
      "metadata": {
        "id": "SjX6-thkXf79"
      },
      "source": [
        "\r\n",
        "import matplotlib.pyplot as plt\r\n"
      ],
      "execution_count": 205,
      "outputs": []
    },
    {
      "cell_type": "code",
      "metadata": {
        "colab": {
          "base_uri": "https://localhost:8080/",
          "height": 51
        },
        "id": "vT6ouqVXX25j",
        "outputId": "aebdd174-b0ed-46d1-bfe3-fc14006b9fcb"
      },
      "source": [
        ""
      ],
      "execution_count": 206,
      "outputs": [
        {
          "output_type": "execute_result",
          "data": {
            "text/plain": [
              "<Figure size 432x288 with 0 Axes>"
            ]
          },
          "metadata": {
            "tags": []
          },
          "execution_count": 206
        },
        {
          "output_type": "display_data",
          "data": {
            "text/plain": [
              "<Figure size 432x288 with 0 Axes>"
            ]
          },
          "metadata": {
            "tags": []
          }
        }
      ]
    },
    {
      "cell_type": "code",
      "metadata": {
        "id": "1U8hhMAoYGLt"
      },
      "source": [
        "predict = model.predict(X)"
      ],
      "execution_count": 207,
      "outputs": []
    },
    {
      "cell_type": "code",
      "metadata": {
        "colab": {
          "base_uri": "https://localhost:8080/"
        },
        "id": "BPY8VAHkX6mC",
        "outputId": "0f06a9dd-406e-435a-ad71-142e0aa26fe7"
      },
      "source": [
        "predict"
      ],
      "execution_count": 208,
      "outputs": [
        {
          "output_type": "execute_result",
          "data": {
            "text/plain": [
              "array([[62.879993],\n",
              "       [63.328396],\n",
              "       [54.23863 ],\n",
              "       ...,\n",
              "       [26.110172],\n",
              "       [34.817398],\n",
              "       [29.065992]], dtype=float32)"
            ]
          },
          "metadata": {
            "tags": []
          },
          "execution_count": 208
        }
      ]
    },
    {
      "cell_type": "code",
      "metadata": {
        "id": "eyyKwWxSavY7"
      },
      "source": [
        ""
      ],
      "execution_count": null,
      "outputs": []
    }
  ]
}